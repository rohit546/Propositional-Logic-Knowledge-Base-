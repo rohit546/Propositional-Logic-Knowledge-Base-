{
 "cells": [
  {
   "cell_type": "code",
   "execution_count": 2,
   "id": "e963daf5",
   "metadata": {},
   "outputs": [
    {
     "name": "stdout",
     "output_type": "stream",
     "text": [
      "Is there is a pit a P1,1 :  False\n",
      "Is the agent senses breeze in B2,1 :  True\n"
     ]
    }
   ],
   "source": [
    "from logic import *\n",
    "wumpus_kb = PropKB()\n",
    "P11, P12, P21, P22, P31, B11, B21 = expr('P11, P12, P21, P22, P31, B11, B21')\n",
    "wumpus_kb.tell(~P11)\n",
    "wumpus_kb.tell(B11 | '<=>' | ((P12 | P21)))\n",
    "wumpus_kb.tell(B21 | '<=>' | ((P11 | P22 | P31)))\n",
    "wumpus_kb.tell(~B11)\n",
    "wumpus_kb.tell(B21)\n",
    "\n",
    "print(\"Is there is a pit a P1,1 : \",wumpus_kb.ask_if_true(P11))\n",
    "print(\"Is the agent senses breeze in B2,1 : \",wumpus_kb.ask_if_true(B21))\n"
   ]
  },
  {
   "cell_type": "code",
   "execution_count": 3,
   "id": "c28e1fcb",
   "metadata": {},
   "outputs": [
    {
     "name": "stdout",
     "output_type": "stream",
     "text": [
      "statement is not valid\n"
     ]
    }
   ],
   "source": [
    "\n",
    "kb=PropKB()\n",
    "A,B,C,D=expr('A,B,C,D')\n",
    "kb.tell(A|'==>'|B)\n",
    "kb.tell(C|'==>'|D)\n",
    "#check whether the statement is valid or not\n",
    "\n",
    "if pl_resolution(kb,(B|'==>'|C)|'&'|(C|'==>'|A)):\n",
    "    print(\"Statement is valid\")\n",
    "else:\n",
    "    print(\"statement is not valid\")"
   ]
  },
  {
   "cell_type": "code",
   "execution_count": null,
   "id": "5696b728",
   "metadata": {},
   "outputs": [],
   "source": []
  }
 ],
 "metadata": {
  "kernelspec": {
   "display_name": "Python 3 (ipykernel)",
   "language": "python",
   "name": "python3"
  },
  "language_info": {
   "codemirror_mode": {
    "name": "ipython",
    "version": 3
   },
   "file_extension": ".py",
   "mimetype": "text/x-python",
   "name": "python",
   "nbconvert_exporter": "python",
   "pygments_lexer": "ipython3",
   "version": "3.11.4"
  }
 },
 "nbformat": 4,
 "nbformat_minor": 5
}
